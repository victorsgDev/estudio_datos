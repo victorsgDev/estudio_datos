{
 "cells": [
  {
   "cell_type": "markdown",
   "source": [
    "# HITO INDIVIDUAL 1 : SISTEMAS DE GESTIÓN EMPRESARIAL\n",
    "## Víctor Sánchez Grande"
   ],
   "metadata": {
    "collapsed": false
   }
  },
  {
   "cell_type": "markdown",
   "source": [
    "- Utilizando python descarga un archivo tipo excel con datos estadísticos del INE. Puedes elegir el tema que quieras, pero tiene que tener al menos 30\n",
    "filas y 100 datos (las columnas deben ser años, meses o días)"
   ],
   "metadata": {
    "collapsed": false
   }
  },
  {
   "cell_type": "code",
   "execution_count": 1,
   "outputs": [],
   "source": [
    "# Enlace : https://www.ine.es/jaxiT3/files/t/es/xls/32449.xls?nocab=1"
   ],
   "metadata": {
    "collapsed": false
   }
  },
  {
   "cell_type": "markdown",
   "source": [
    "- Carga los datos en una variable y crea un dataset con ellos. Necesitarás el nombre de la hoja y la fila y columna en que están los nombres, también\n",
    "deberás guardar los datos de las primeras celdas para los títulos de los gráficos (hasta que empiezan las columnas con los años – meses - días) y\n",
    "luego eliminar esas filas para evitar errores."
   ],
   "metadata": {
    "collapsed": false
   }
  },
  {
   "cell_type": "code",
   "execution_count": 24,
   "outputs": [],
   "source": [
    "import pandas as pd\n",
    "from numpy import var\n",
    "from statistics import mode\n",
    "from matplotlib import pyplot as pp\n",
    "import sqlite3\n",
    "# Enlace : https://www.ine.es/jaxiT3/files/t/es/xls/32449.xls?nocab=1\n",
    "excel_file = pd.ExcelFile('resources/file.xlsx')\n",
    "dataframe = pd.read_excel(excel_file, sheet_name=\"tabla-32449\")\n",
    "columns = dataframe.columns"
   ],
   "metadata": {
    "collapsed": false
   }
  },
  {
   "cell_type": "markdown",
   "source": [
    "values"
   ],
   "metadata": {
    "collapsed": false
   }
  },
  {
   "cell_type": "code",
   "execution_count": 27,
   "outputs": [
    {
     "name": "stdout",
     "output_type": "stream",
     "text": [
      "                                            Producción     2021       2020  \\\n",
      "0                                           Total CNAE  2134507  2015838.0   \n",
      "1            A Agricultura, ganadería, silvicultura...    60816    60097.0   \n",
      "2            A Agricultura, ganadería, silvicultura...    60816    60097.0   \n",
      "3            01 Agricultura, ganadería, caza y serv...        0    56008.0   \n",
      "4               02 Silvicultura y explotación forestal        0     1708.0   \n",
      "..                                                 ...      ...        ...   \n",
      "786                      96 Otros servicios personales        0     4475.0   \n",
      "787          T Actividades de los hogares como empl...        0        0.0   \n",
      "788          97-98 Actividades de los hogares como ...        0        0.0   \n",
      "789          U Actividades de organizaciones y orga...        0        0.0   \n",
      "790          99 Actividades de organizaciones y org...        0        0.0   \n",
      "\n",
      "          2019       2018       2017       2016       2015       2014  \\\n",
      "0    2241847.0  2156398.0  2061054.0  1953684.0  1922923.0  1870440.0   \n",
      "1      58237.0    60795.0    57537.0    56141.0    54721.0    50213.0   \n",
      "2      58237.0    60795.0    57537.0    56141.0    54721.0    50213.0   \n",
      "3      53857.0    56143.0    52866.0    51439.0    50116.0    45622.0   \n",
      "4       1741.0     1859.0     1834.0     1923.0     1856.0     1752.0   \n",
      "..         ...        ...        ...        ...        ...        ...   \n",
      "786     6752.0     6486.0     6367.0     5913.0     5877.0     5441.0   \n",
      "787        0.0        0.0        0.0        0.0        0.0        0.0   \n",
      "788        0.0        0.0        0.0        0.0        0.0        0.0   \n",
      "789        0.0        0.0        0.0        0.0        0.0        0.0   \n",
      "790        0.0        0.0        0.0        0.0        0.0        0.0   \n",
      "\n",
      "          2013  ...       2004       2003       2002       2001       2000  \\\n",
      "0    1840171.0  ...  1653742.0  1530031.0  1428025.0  1315287.0  1210545.0   \n",
      "1      52048.0  ...    45599.0    45585.0    42855.0    41862.0    39550.0   \n",
      "2      52048.0  ...    45599.0    45585.0    42855.0    41862.0    39550.0   \n",
      "3      47613.0  ...    40902.0    41158.0    38383.0    37580.0    35332.0   \n",
      "4       1740.0  ...     1797.0     1770.0     1734.0     1570.0     1586.0   \n",
      "..         ...  ...        ...        ...        ...        ...        ...   \n",
      "786     5545.0  ...     3773.0     3856.0     3787.0     3813.0     3880.0   \n",
      "787        0.0  ...        0.0        0.0        0.0        0.0        0.0   \n",
      "788        0.0  ...        0.0        0.0        0.0        0.0        0.0   \n",
      "789        0.0  ...        0.0        0.0        0.0        0.0        0.0   \n",
      "790        0.0  ...        0.0        0.0        0.0        0.0        0.0   \n",
      "\n",
      "          1999       1998      1997      1996      1995  \n",
      "0    1085506.0  1000562.0  931603.0  870592.0  815321.0  \n",
      "1      37457.0    37972.0   37150.0   36515.0   31923.0  \n",
      "2      37457.0    37972.0   37150.0   36515.0   31923.0  \n",
      "3      33419.0    34136.0   33588.0   33101.0   28726.0  \n",
      "4       1312.0     1226.0    1043.0     923.0     848.0  \n",
      "..         ...        ...       ...       ...       ...  \n",
      "786     3882.0     3873.0    3826.0    3835.0    3796.0  \n",
      "787        0.0        0.0       0.0       0.0       0.0  \n",
      "788        0.0        0.0       0.0       0.0       0.0  \n",
      "789        0.0        0.0       0.0       0.0       0.0  \n",
      "790        0.0        0.0       0.0       0.0       0.0  \n",
      "\n",
      "[791 rows x 28 columns]\n"
     ]
    }
   ],
   "source": [
    "dataframe = dataframe.fillna(0)\n",
    "dataframe = dataframe.replace({'..': 0})\n",
    "\n",
    "\n",
    "def comprobar_valor_celdas():\n",
    "    columnas = columns.delete(0)\n",
    "    for c in columnas:\n",
    "        c = str(c)\n",
    "        for x in dataframe[c]:\n",
    "            if x < 0:\n",
    "                dataframe.replace({x: 0})\n",
    "    print(dataframe)\n",
    "\n",
    "\n",
    "comprobar_valor_celdas()\n"
   ],
   "metadata": {
    "collapsed": false
   }
  },
  {
   "cell_type": "markdown",
   "source": [
    "- A partir del dataset, crea una colección de datos de cada tipo estudiado\n",
    "utilizando una fila distinta."
   ],
   "metadata": {
    "collapsed": false
   }
  },
  {
   "cell_type": "code",
   "execution_count": 11,
   "outputs": [
    {
     "name": "stdout",
     "output_type": "stream",
     "text": [
      "[('sector_silvicultura', '2021', '..'), ('sector_silvicultura', '2020', 1708.0), ('sector_silvicultura', '2019', 1741.0), ('sector_silvicultura', '2018', 1859.0), ('sector_silvicultura', '2017', 1834.0), ('sector_silvicultura', '2016', 1923.0), ('sector_silvicultura', '2015', 1856.0), ('sector_silvicultura', '2014', 1752.0), ('sector_silvicultura', '2013', 1740.0), ('sector_silvicultura', '2012', 1516.0), ('sector_silvicultura', '2011', 1571.0), ('sector_silvicultura', '2010', 1420.0), ('sector_silvicultura', '2009', 1351.0), ('sector_silvicultura', '2008', 1845.0), ('sector_silvicultura', '2007', 2134.0), ('sector_silvicultura', '2006', 2014.0), ('sector_silvicultura', '2005', 1908.0), ('sector_silvicultura', '2004', 1797.0), ('sector_silvicultura', '2003', 1770.0), ('sector_silvicultura', '2002', 1734.0), ('sector_silvicultura', '2001', 1570.0), ('sector_silvicultura', '2000', 1586.0), ('sector_silvicultura', '1999', 1312.0), ('sector_silvicultura', '1998', 1226.0), ('sector_silvicultura', '1997', 1043.0), ('sector_silvicultura', '1996', 923.0), ('sector_silvicultura', '1995', 848.0)]\n",
      "\n",
      "\n",
      "{'2021': 60816, '2020': 60097.0, '2019': 58237.0, '2018': 60795.0, '2017': 57537.0, '2016': 56141.0, '2015': 54721.0, '2014': 50213.0, '2013': 52048.0, '2012': 47805.0, '2011': 47748.0, '2010': 46463.0, '2009': 43481.0, '2008': 47393.0, '2007': 47605.0, '2006': 42403.0, '2005': 43008.0, '2004': 45599.0, '2003': 45585.0, '2002': 42855.0, '2001': 41862.0, '2000': 39550.0, '1999': 37457.0, '1998': 37972.0, '1997': 37150.0, '1996': 36515.0, '1995': 31923.0}\n"
     ]
    }
   ],
   "source": [
    "\n",
    "def data_to_tupla(col):\n",
    "    lista_silvicultura = []\n",
    "    col = col.delete(0)\n",
    "    for column in col:\n",
    "        c = str(column)\n",
    "        lista_silvicultura.append((\"sector_silvicultura\", c, dataframe[c][4]))\n",
    "\n",
    "    return lista_silvicultura\n",
    "\n",
    "\n",
    "def data_to_dic(col):\n",
    "    dic_pesca = {}\n",
    "    col = col.delete(0)\n",
    "    for column in col:\n",
    "        dic_pesca[column] = dataframe[column][1]\n",
    "    return dic_pesca\n",
    "\n",
    "\n",
    "print(data_to_tupla(columns))\n",
    "print('\\n')\n",
    "print(data_to_dic(columns))"
   ],
   "metadata": {
    "collapsed": false
   }
  },
  {
   "cell_type": "markdown",
   "source": [
    "- Concatena todos los datos de la lista utilizando espacios entre medias y\n",
    "guárdalo en un fichero de texto con el nombre “lista.txt”"
   ],
   "metadata": {
    "collapsed": false
   }
  },
  {
   "cell_type": "code",
   "execution_count": 15,
   "outputs": [
    {
     "name": "stdout",
     "output_type": "stream",
     "text": [
      "Fichero creado e info almacenada correctamente.\n"
     ]
    }
   ],
   "source": [
    "def concat_and_save(nombre, data):\n",
    "    file = open(nombre, \"wt\")\n",
    "    for values in data:\n",
    "        file.write(f\"{values[1]}  {values[2]}\\n\")\n",
    "    print(\"Fichero creado e info almacenada correctamente.\")\n",
    "\n",
    "concat_and_save(\"lista.txt\", data_to_tupla(columns))"
   ],
   "metadata": {
    "collapsed": false
   }
  },
  {
   "cell_type": "markdown",
   "source": [
    "- Crea una función que cambie las filas por columnas para tener el dataset con\n",
    "los años (meses o días) en las filas"
   ],
   "metadata": {
    "collapsed": false
   }
  },
  {
   "cell_type": "code",
   "execution_count": 34,
   "outputs": [
    {
     "name": "stdout",
     "output_type": "stream",
     "text": [
      "                           0    \\\n",
      "Producción          Total CNAE   \n",
      "2021                   2134507   \n",
      "2020                 2015838.0   \n",
      "2019                 2241847.0   \n",
      "2018                 2156398.0   \n",
      "2017                 2061054.0   \n",
      "2016                 1953684.0   \n",
      "2015                 1922923.0   \n",
      "2014                 1870440.0   \n",
      "2013                 1840171.0   \n",
      "2012                 1886413.0   \n",
      "2011                 1955501.0   \n",
      "2010                 1963676.0   \n",
      "2009                 1984954.0   \n",
      "2008                 2175254.0   \n",
      "2007                 2145676.0   \n",
      "2006                 1998401.0   \n",
      "2005                 1815864.0   \n",
      "2004                 1653742.0   \n",
      "2003                 1530031.0   \n",
      "2002                 1428025.0   \n",
      "2001                 1315287.0   \n",
      "2000                 1210545.0   \n",
      "1999                 1085506.0   \n",
      "1998                 1000562.0   \n",
      "1997                  931603.0   \n",
      "1996                  870592.0   \n",
      "1995                  815321.0   \n",
      "\n",
      "                                                          1    \\\n",
      "Producción          A Agricultura, ganadería, silvicultura...   \n",
      "2021                                                    60816   \n",
      "2020                                                  60097.0   \n",
      "2019                                                  58237.0   \n",
      "2018                                                  60795.0   \n",
      "2017                                                  57537.0   \n",
      "2016                                                  56141.0   \n",
      "2015                                                  54721.0   \n",
      "2014                                                  50213.0   \n",
      "2013                                                  52048.0   \n",
      "2012                                                  47805.0   \n",
      "2011                                                  47748.0   \n",
      "2010                                                  46463.0   \n",
      "2009                                                  43481.0   \n",
      "2008                                                  47393.0   \n",
      "2007                                                  47605.0   \n",
      "2006                                                  42403.0   \n",
      "2005                                                  43008.0   \n",
      "2004                                                  45599.0   \n",
      "2003                                                  45585.0   \n",
      "2002                                                  42855.0   \n",
      "2001                                                  41862.0   \n",
      "2000                                                  39550.0   \n",
      "1999                                                  37457.0   \n",
      "1998                                                  37972.0   \n",
      "1997                                                  37150.0   \n",
      "1996                                                  36515.0   \n",
      "1995                                                  31923.0   \n",
      "\n",
      "                                                          2    \\\n",
      "Producción          A Agricultura, ganadería, silvicultura...   \n",
      "2021                                                    60816   \n",
      "2020                                                  60097.0   \n",
      "2019                                                  58237.0   \n",
      "2018                                                  60795.0   \n",
      "2017                                                  57537.0   \n",
      "2016                                                  56141.0   \n",
      "2015                                                  54721.0   \n",
      "2014                                                  50213.0   \n",
      "2013                                                  52048.0   \n",
      "2012                                                  47805.0   \n",
      "2011                                                  47748.0   \n",
      "2010                                                  46463.0   \n",
      "2009                                                  43481.0   \n",
      "2008                                                  47393.0   \n",
      "2007                                                  47605.0   \n",
      "2006                                                  42403.0   \n",
      "2005                                                  43008.0   \n",
      "2004                                                  45599.0   \n",
      "2003                                                  45585.0   \n",
      "2002                                                  42855.0   \n",
      "2001                                                  41862.0   \n",
      "2000                                                  39550.0   \n",
      "1999                                                  37457.0   \n",
      "1998                                                  37972.0   \n",
      "1997                                                  37150.0   \n",
      "1996                                                  36515.0   \n",
      "1995                                                  31923.0   \n",
      "\n",
      "                                                          3    \\\n",
      "Producción          01 Agricultura, ganadería, caza y serv...   \n",
      "2021                                                       ..   \n",
      "2020                                                  56008.0   \n",
      "2019                                                  53857.0   \n",
      "2018                                                  56143.0   \n",
      "2017                                                  52866.0   \n",
      "2016                                                  51439.0   \n",
      "2015                                                  50116.0   \n",
      "2014                                                  45622.0   \n",
      "2013                                                  47613.0   \n",
      "2012                                                  43537.0   \n",
      "2011                                                  43340.0   \n",
      "2010                                                  42452.0   \n",
      "2009                                                  39466.0   \n",
      "2008                                                  42938.0   \n",
      "2007                                                  42670.0   \n",
      "2006                                                  37703.0   \n",
      "2005                                                  38404.0   \n",
      "2004                                                  40902.0   \n",
      "2003                                                  41158.0   \n",
      "2002                                                  38383.0   \n",
      "2001                                                  37580.0   \n",
      "2000                                                  35332.0   \n",
      "1999                                                  33419.0   \n",
      "1998                                                  34136.0   \n",
      "1997                                                  33588.0   \n",
      "1996                                                  33101.0   \n",
      "1995                                                  28726.0   \n",
      "\n",
      "                                                       4    \\\n",
      "Producción          02 Silvicultura y explotación forestal   \n",
      "2021                                                    ..   \n",
      "2020                                                1708.0   \n",
      "2019                                                1741.0   \n",
      "2018                                                1859.0   \n",
      "2017                                                1834.0   \n",
      "2016                                                1923.0   \n",
      "2015                                                1856.0   \n",
      "2014                                                1752.0   \n",
      "2013                                                1740.0   \n",
      "2012                                                1516.0   \n",
      "2011                                                1571.0   \n",
      "2010                                                1420.0   \n",
      "2009                                                1351.0   \n",
      "2008                                                1845.0   \n",
      "2007                                                2134.0   \n",
      "2006                                                2014.0   \n",
      "2005                                                1908.0   \n",
      "2004                                                1797.0   \n",
      "2003                                                1770.0   \n",
      "2002                                                1734.0   \n",
      "2001                                                1570.0   \n",
      "2000                                                1586.0   \n",
      "1999                                                1312.0   \n",
      "1998                                                1226.0   \n",
      "1997                                                1043.0   \n",
      "1996                                                 923.0   \n",
      "1995                                                 848.0   \n",
      "\n",
      "                                       5    \\\n",
      "Producción          03 Pesca y acuicultura   \n",
      "2021                                    ..   \n",
      "2020                                2381.0   \n",
      "2019                                2639.0   \n",
      "2018                                2793.0   \n",
      "2017                                2837.0   \n",
      "2016                                2779.0   \n",
      "2015                                2749.0   \n",
      "2014                                2839.0   \n",
      "2013                                2695.0   \n",
      "2012                                2752.0   \n",
      "2011                                2837.0   \n",
      "2010                                2591.0   \n",
      "2009                                2664.0   \n",
      "2008                                2610.0   \n",
      "2007                                2801.0   \n",
      "2006                                2686.0   \n",
      "2005                                2696.0   \n",
      "2004                                2900.0   \n",
      "2003                                2657.0   \n",
      "2002                                2738.0   \n",
      "2001                                2712.0   \n",
      "2000                                2632.0   \n",
      "1999                                2726.0   \n",
      "1998                                2610.0   \n",
      "1997                                2519.0   \n",
      "1996                                2491.0   \n",
      "1995                                2349.0   \n",
      "\n",
      "                                                          6    \\\n",
      "Producción          BDE Industrias extractivas; suministro...   \n",
      "2021                                                   101385   \n",
      "2020                                                  92794.0   \n",
      "2019                                                 102449.0   \n",
      "2018                                                 100548.0   \n",
      "2017                                                  94893.0   \n",
      "2016                                                  90343.0   \n",
      "2015                                                  99227.0   \n",
      "2014                                                 105268.0   \n",
      "2013                                                 105949.0   \n",
      "2012                                                 103784.0   \n",
      "2011                                                 100884.0   \n",
      "2010                                                 104425.0   \n",
      "2009                                                  90381.0   \n",
      "2008                                                 101026.0   \n",
      "2007                                                  87028.0   \n",
      "2006                                                  79183.0   \n",
      "2005                                                  69013.0   \n",
      "2004                                                  57440.0   \n",
      "2003                                                  53296.0   \n",
      "2002                                                  49358.0   \n",
      "2001                                                  45538.0   \n",
      "2000                                                  41118.0   \n",
      "1999                                                  36637.0   \n",
      "1998                                                  33433.0   \n",
      "1997                                                  33026.0   \n",
      "1996                                                  30881.0   \n",
      "1995                                                  29001.0   \n",
      "\n",
      "                                         7    \\\n",
      "Producción          B Industrias extractivas   \n",
      "2021                                    5653   \n",
      "2020                                  5114.0   \n",
      "2019                                  5855.0   \n",
      "2018                                  5292.0   \n",
      "2017                                  4356.0   \n",
      "2016                                  3683.0   \n",
      "2015                                  3734.0   \n",
      "2014                                  3853.0   \n",
      "2013                                  4171.0   \n",
      "2012                                  5167.0   \n",
      "2011                                  5746.0   \n",
      "2010                                  6104.0   \n",
      "2009                                  6108.0   \n",
      "2008                                  7515.0   \n",
      "2007                                  7838.0   \n",
      "2006                                  7112.0   \n",
      "2005                                  6460.0   \n",
      "2004                                  6208.0   \n",
      "2003                                  5847.0   \n",
      "2002                                  5270.0   \n",
      "2001                                  4973.0   \n",
      "2000                                  4044.0   \n",
      "1999                                  3782.0   \n",
      "1998                                  3689.0   \n",
      "1997                                  3774.0   \n",
      "1996                                  3934.0   \n",
      "1995                                  4094.0   \n",
      "\n",
      "                                             8    \\\n",
      "Producción          05-09 Industrias extractivas   \n",
      "2021                                          ..   \n",
      "2020                                      5114.0   \n",
      "2019                                      5855.0   \n",
      "2018                                      5292.0   \n",
      "2017                                      4356.0   \n",
      "2016                                      3683.0   \n",
      "2015                                      3734.0   \n",
      "2014                                      3853.0   \n",
      "2013                                      4171.0   \n",
      "2012                                      5167.0   \n",
      "2011                                      5746.0   \n",
      "2010                                      6104.0   \n",
      "2009                                      6108.0   \n",
      "2008                                      7515.0   \n",
      "2007                                      7838.0   \n",
      "2006                                      7112.0   \n",
      "2005                                      6460.0   \n",
      "2004                                      6208.0   \n",
      "2003                                      5847.0   \n",
      "2002                                      5270.0   \n",
      "2001                                      4973.0   \n",
      "2000                                      4044.0   \n",
      "1999                                      3782.0   \n",
      "1998                                      3689.0   \n",
      "1997                                      3774.0   \n",
      "1996                                      3934.0   \n",
      "1995                                      4094.0   \n",
      "\n",
      "                                                          9    ...  \\\n",
      "Producción          D Suministro de energía eléctrica, gas...  ...   \n",
      "2021                                                    65864  ...   \n",
      "2020                                                  56093.0  ...   \n",
      "2019                                                  64970.0  ...   \n",
      "2018                                                  65166.0  ...   \n",
      "2017                                                  61480.0  ...   \n",
      "2016                                                  59067.0  ...   \n",
      "2015                                                  68975.0  ...   \n",
      "2014                                                  75713.0  ...   \n",
      "2013                                                  75944.0  ...   \n",
      "2012                                                  72784.0  ...   \n",
      "2011                                                  69295.0  ...   \n",
      "2010                                                  72649.0  ...   \n",
      "2009                                                  62905.0  ...   \n",
      "2008                                                  71158.0  ...   \n",
      "2007                                                  57505.0  ...   \n",
      "2006                                                  51487.0  ...   \n",
      "2005                                                  43828.0  ...   \n",
      "2004                                                  33883.0  ...   \n",
      "2003                                                  31040.0  ...   \n",
      "2002                                                  28318.0  ...   \n",
      "2001                                                  26192.0  ...   \n",
      "2000                                                  23896.0  ...   \n",
      "1999                                                  21056.0  ...   \n",
      "1998                                                  19500.0  ...   \n",
      "1997                                                  20191.0  ...   \n",
      "1996                                                  18917.0  ...   \n",
      "1995                                                  17634.0  ...   \n",
      "\n",
      "                                                          781  \\\n",
      "Producción          90-92 Actividades de creación, artísti...   \n",
      "2021                                                       ..   \n",
      "2020                                                   4500.0   \n",
      "2019                                                   6476.0   \n",
      "2018                                                   7434.0   \n",
      "2017                                                   7289.0   \n",
      "2016                                                   6657.0   \n",
      "2015                                                   6971.0   \n",
      "2014                                                   6195.0   \n",
      "2013                                                   6576.0   \n",
      "2012                                                   6749.0   \n",
      "2011                                                   6536.0   \n",
      "2010                                                   6378.0   \n",
      "2009                                                   6437.0   \n",
      "2008                                                   6238.0   \n",
      "2007                                                   5636.0   \n",
      "2006                                                   5285.0   \n",
      "2005                                                   4909.0   \n",
      "2004                                                   4292.0   \n",
      "2003                                                   3690.0   \n",
      "2002                                                   3264.0   \n",
      "2001                                                   2919.0   \n",
      "2000                                                   2500.0   \n",
      "1999                                                   2131.0   \n",
      "1998                                                   1858.0   \n",
      "1997                                                   1554.0   \n",
      "1996                                                   1462.0   \n",
      "1995                                                   1249.0   \n",
      "\n",
      "                                                          782  \\\n",
      "Producción          93 Actividades deportivas, recreativas...   \n",
      "2021                                                       ..   \n",
      "2020                                                   1338.0   \n",
      "2019                                                   5424.0   \n",
      "2018                                                   5521.0   \n",
      "2017                                                   5111.0   \n",
      "2016                                                   4610.0   \n",
      "2015                                                   4069.0   \n",
      "2014                                                   3257.0   \n",
      "2013                                                   3053.0   \n",
      "2012                                                   3051.0   \n",
      "2011                                                   3180.0   \n",
      "2010                                                   2921.0   \n",
      "2009                                                   2582.0   \n",
      "2008                                                   2283.0   \n",
      "2007                                                   2521.0   \n",
      "2006                                                   2289.0   \n",
      "2005                                                   2219.0   \n",
      "2004                                                   1920.0   \n",
      "2003                                                   1620.0   \n",
      "2002                                                   1402.0   \n",
      "2001                                                   1318.0   \n",
      "2000                                                   1107.0   \n",
      "1999                                                    804.0   \n",
      "1998                                                    563.0   \n",
      "1997                                                    328.0   \n",
      "1996                                                    269.0   \n",
      "1995                                                     99.0   \n",
      "\n",
      "                                  783                                 784  \\\n",
      "Producción          S Otros servicios          94 Actividades asociativas   \n",
      "2021                             8046                                  ..   \n",
      "2020                           8963.0                              4024.0   \n",
      "2019                          11383.0                              4123.0   \n",
      "2018                          10512.0                              3543.0   \n",
      "2017                          10705.0                              3811.0   \n",
      "2016                          10323.0                              3916.0   \n",
      "2015                           9515.0                              3236.0   \n",
      "2014                           8699.0                              2783.0   \n",
      "2013                           8377.0                              2459.0   \n",
      "2012                           7958.0                              2120.0   \n",
      "2011                           7694.0                              1820.0   \n",
      "2010                           7124.0                              1589.0   \n",
      "2009                           6550.0                              1585.0   \n",
      "2008                           6240.0                              1417.0   \n",
      "2007                           5687.0                              1084.0   \n",
      "2006                           5273.0                               994.0   \n",
      "2005                           5195.0                               842.0   \n",
      "2004                           4812.0                               723.0   \n",
      "2003                           4819.0                               644.0   \n",
      "2002                           4687.0                               566.0   \n",
      "2001                           4606.0                               489.0   \n",
      "2000                           4587.0                               441.0   \n",
      "1999                           4574.0                               444.0   \n",
      "1998                           4542.0                               442.0   \n",
      "1997                           4481.0                               434.0   \n",
      "1996                           4485.0                               428.0   \n",
      "1995                           4420.0                               412.0   \n",
      "\n",
      "                                                          785  \\\n",
      "Producción          95 Reparación de ordenadores, efectos ...   \n",
      "2021                                                       ..   \n",
      "2020                                                    464.0   \n",
      "2019                                                    508.0   \n",
      "2018                                                    483.0   \n",
      "2017                                                    527.0   \n",
      "2016                                                    494.0   \n",
      "2015                                                    402.0   \n",
      "2014                                                    475.0   \n",
      "2013                                                    373.0   \n",
      "2012                                                    220.0   \n",
      "2011                                                    200.0   \n",
      "2010                                                    217.0   \n",
      "2009                                                    266.0   \n",
      "2008                                                    223.0   \n",
      "2007                                                    312.0   \n",
      "2006                                                    331.0   \n",
      "2005                                                    323.0   \n",
      "2004                                                    316.0   \n",
      "2003                                                    319.0   \n",
      "2002                                                    334.0   \n",
      "2001                                                    304.0   \n",
      "2000                                                    266.0   \n",
      "1999                                                    248.0   \n",
      "1998                                                    227.0   \n",
      "1997                                                    221.0   \n",
      "1996                                                    222.0   \n",
      "1995                                                    212.0   \n",
      "\n",
      "                                              786  \\\n",
      "Producción          96 Otros servicios personales   \n",
      "2021                                           ..   \n",
      "2020                                       4475.0   \n",
      "2019                                       6752.0   \n",
      "2018                                       6486.0   \n",
      "2017                                       6367.0   \n",
      "2016                                       5913.0   \n",
      "2015                                       5877.0   \n",
      "2014                                       5441.0   \n",
      "2013                                       5545.0   \n",
      "2012                                       5618.0   \n",
      "2011                                       5674.0   \n",
      "2010                                       5318.0   \n",
      "2009                                       4699.0   \n",
      "2008                                       4600.0   \n",
      "2007                                       4291.0   \n",
      "2006                                       3948.0   \n",
      "2005                                       4030.0   \n",
      "2004                                       3773.0   \n",
      "2003                                       3856.0   \n",
      "2002                                       3787.0   \n",
      "2001                                       3813.0   \n",
      "2000                                       3880.0   \n",
      "1999                                       3882.0   \n",
      "1998                                       3873.0   \n",
      "1997                                       3826.0   \n",
      "1996                                       3835.0   \n",
      "1995                                       3796.0   \n",
      "\n",
      "                                                          787  \\\n",
      "Producción          T Actividades de los hogares como empl...   \n",
      "2021                                                        0   \n",
      "2020                                                      0.0   \n",
      "2019                                                      0.0   \n",
      "2018                                                      0.0   \n",
      "2017                                                      0.0   \n",
      "2016                                                      0.0   \n",
      "2015                                                      0.0   \n",
      "2014                                                      0.0   \n",
      "2013                                                      0.0   \n",
      "2012                                                      0.0   \n",
      "2011                                                      0.0   \n",
      "2010                                                      0.0   \n",
      "2009                                                      0.0   \n",
      "2008                                                      0.0   \n",
      "2007                                                      0.0   \n",
      "2006                                                      0.0   \n",
      "2005                                                      0.0   \n",
      "2004                                                      0.0   \n",
      "2003                                                      0.0   \n",
      "2002                                                      0.0   \n",
      "2001                                                      0.0   \n",
      "2000                                                      0.0   \n",
      "1999                                                      0.0   \n",
      "1998                                                      0.0   \n",
      "1997                                                      0.0   \n",
      "1996                                                      0.0   \n",
      "1995                                                      0.0   \n",
      "\n",
      "                                                          788  \\\n",
      "Producción          97-98 Actividades de los hogares como ...   \n",
      "2021                                                       ..   \n",
      "2020                                                      0.0   \n",
      "2019                                                      0.0   \n",
      "2018                                                      0.0   \n",
      "2017                                                      0.0   \n",
      "2016                                                      0.0   \n",
      "2015                                                      0.0   \n",
      "2014                                                      0.0   \n",
      "2013                                                      0.0   \n",
      "2012                                                      0.0   \n",
      "2011                                                      0.0   \n",
      "2010                                                      0.0   \n",
      "2009                                                      0.0   \n",
      "2008                                                      0.0   \n",
      "2007                                                      0.0   \n",
      "2006                                                      0.0   \n",
      "2005                                                      0.0   \n",
      "2004                                                      0.0   \n",
      "2003                                                      0.0   \n",
      "2002                                                      0.0   \n",
      "2001                                                      0.0   \n",
      "2000                                                      0.0   \n",
      "1999                                                      0.0   \n",
      "1998                                                      0.0   \n",
      "1997                                                      0.0   \n",
      "1996                                                      0.0   \n",
      "1995                                                      0.0   \n",
      "\n",
      "                                                          789  \\\n",
      "Producción          U Actividades de organizaciones y orga...   \n",
      "2021                                                        0   \n",
      "2020                                                      0.0   \n",
      "2019                                                      0.0   \n",
      "2018                                                      0.0   \n",
      "2017                                                      0.0   \n",
      "2016                                                      0.0   \n",
      "2015                                                      0.0   \n",
      "2014                                                      0.0   \n",
      "2013                                                      0.0   \n",
      "2012                                                      0.0   \n",
      "2011                                                      0.0   \n",
      "2010                                                      0.0   \n",
      "2009                                                      0.0   \n",
      "2008                                                      0.0   \n",
      "2007                                                      0.0   \n",
      "2006                                                      0.0   \n",
      "2005                                                      0.0   \n",
      "2004                                                      0.0   \n",
      "2003                                                      0.0   \n",
      "2002                                                      0.0   \n",
      "2001                                                      0.0   \n",
      "2000                                                      0.0   \n",
      "1999                                                      0.0   \n",
      "1998                                                      0.0   \n",
      "1997                                                      0.0   \n",
      "1996                                                      0.0   \n",
      "1995                                                      0.0   \n",
      "\n",
      "                                                          790  \n",
      "Producción          99 Actividades de organizaciones y org...  \n",
      "2021                                                       ..  \n",
      "2020                                                      0.0  \n",
      "2019                                                      0.0  \n",
      "2018                                                      0.0  \n",
      "2017                                                      0.0  \n",
      "2016                                                      0.0  \n",
      "2015                                                      0.0  \n",
      "2014                                                      0.0  \n",
      "2013                                                      0.0  \n",
      "2012                                                      0.0  \n",
      "2011                                                      0.0  \n",
      "2010                                                      0.0  \n",
      "2009                                                      0.0  \n",
      "2008                                                      0.0  \n",
      "2007                                                      0.0  \n",
      "2006                                                      0.0  \n",
      "2005                                                      0.0  \n",
      "2004                                                      0.0  \n",
      "2003                                                      0.0  \n",
      "2002                                                      0.0  \n",
      "2001                                                      0.0  \n",
      "2000                                                      0.0  \n",
      "1999                                                      0.0  \n",
      "1998                                                      0.0  \n",
      "1997                                                      0.0  \n",
      "1996                                                      0.0  \n",
      "1995                                                      0.0  \n",
      "\n",
      "[28 rows x 791 columns]\n"
     ]
    }
   ],
   "source": [
    "dataframe2 = pd.read_excel(excel_file, sheet_name=\"tabla-32449\")\n",
    "cambio_filas_columnas = dataframe2.transpose()\n",
    "print(cambio_filas_columnas)"
   ],
   "metadata": {
    "collapsed": false
   }
  },
  {
   "cell_type": "markdown",
   "source": [
    "- Crea una función que recorra las columnas y calcule la media, la varianza y la moda de cada una."
   ],
   "metadata": {
    "collapsed": false
   }
  },
  {
   "cell_type": "code",
   "execution_count": 13,
   "outputs": [
    {
     "name": "stdout",
     "output_type": "stream",
     "text": [
      "Media por año:\n",
      "2020    28960.794643\n",
      "2019    31944.934949\n",
      "2018    30691.045918\n",
      "2017    29416.650510\n",
      "2016    28000.825255\n",
      "2015    27462.114796\n",
      "2014    26635.446429\n",
      "2013    26260.970663\n",
      "2012    26877.303571\n",
      "2011    27903.505102\n",
      "2010    28069.788265\n",
      "2009    28368.960459\n",
      "2008    30484.979592\n",
      "2007    29708.659439\n",
      "2006    27623.709184\n",
      "2005    25218.553571\n",
      "2004    23098.575255\n",
      "2003    21443.625000\n",
      "2002    20049.948980\n",
      "2001    18546.503827\n",
      "2000    17105.283163\n",
      "1999    15442.017857\n",
      "1998    14292.142857\n",
      "1997    13331.304847\n",
      "1996    12469.352041\n",
      "1995    11705.318878\n",
      "dtype: float64\n",
      "Varianza por año:\n",
      "2020    1.046957e+10\n",
      "2019    1.290812e+10\n",
      "2018    1.197506e+10\n",
      "2017    1.096256e+10\n",
      "2016    9.851289e+09\n",
      "2015    9.529947e+09\n",
      "2014    9.017685e+09\n",
      "2013    8.751966e+09\n",
      "2012    9.184267e+09\n",
      "2011    9.888405e+09\n",
      "2010    9.915899e+09\n",
      "2009    1.010360e+10\n",
      "2008    1.226242e+10\n",
      "2007    1.203231e+10\n",
      "2006    1.050084e+10\n",
      "2005    8.670943e+09\n",
      "2004    7.197771e+09\n",
      "2003    6.172016e+09\n",
      "2002    5.394503e+09\n",
      "2001    4.602240e+09\n",
      "2000    3.911793e+09\n",
      "1999    3.149738e+09\n",
      "1998    2.692696e+09\n",
      "1997    2.342453e+09\n",
      "1996    2.047031e+09\n",
      "1995    1.804258e+09\n",
      "dtype: float64\n",
      "Moda año Producción         A Agricultura, ganadería, silvicultura y pesca\n",
      "Moda año 2021 ..\n",
      "Moda año 2020 0.0\n",
      "Moda año 2019 0.0\n",
      "Moda año 2018 0.0\n",
      "Moda año 2017 0.0\n",
      "Moda año 2016 0.0\n",
      "Moda año 2015 0.0\n",
      "Moda año 2014 0.0\n",
      "Moda año 2013 0.0\n",
      "Moda año 2012 0.0\n",
      "Moda año 2011 0.0\n",
      "Moda año 2010 0.0\n",
      "Moda año 2009 0.0\n",
      "Moda año 2008 0.0\n",
      "Moda año 2007 0.0\n",
      "Moda año 2006 0.0\n",
      "Moda año 2005 0.0\n",
      "Moda año 2004 0.0\n",
      "Moda año 2003 0.0\n",
      "Moda año 2002 0.0\n",
      "Moda año 2001 0.0\n",
      "Moda año 2000 0.0\n",
      "Moda año 1999 0.0\n",
      "Moda año 1998 0.0\n",
      "Moda año 1997 0.0\n",
      "Moda año 1996 0.0\n",
      "Moda año 1995 0.0\n"
     ]
    }
   ],
   "source": [
    "print(f\"Media por año:\\n{dataframe.mean(numeric_only=True)}\")\n",
    "\n",
    "print(f\"Varianza por año:\\n{dataframe.var(numeric_only=True)}\")\n",
    "def calcular_moda(col):\n",
    "    for i in col:\n",
    "        d = dataframe[i].tolist()\n",
    "        print(f\"Moda año {i} {mode(d)}\")\n",
    "\n",
    "calcular_moda(columns)"
   ],
   "metadata": {
    "collapsed": false
   }
  },
  {
   "cell_type": "markdown",
   "source": [
    "- Utiliza map para crear una función que haga algo con el dataset"
   ],
   "metadata": {
    "collapsed": false
   }
  },
  {
   "cell_type": "code",
   "execution_count": null,
   "outputs": [],
   "source": [],
   "metadata": {
    "collapsed": false
   }
  },
  {
   "cell_type": "code",
   "execution_count": 14,
   "outputs": [
    {
     "name": "stdout",
     "output_type": "stream",
     "text": [
      "[2690216.4, 69884.4, 69884.4, 64628.399999999994, 2089.2, 3166.7999999999997, 122938.79999999999, 7026.0, 7026.0, 77964.0, 77964.0, 37948.799999999996, 12655.199999999999, 25293.6, 642386.4, 642386.4, 150518.4, 23320.8, 9112.8, 16782.0, 7087.2, 45219.6, 48968.4, 19909.2, 25383.6, 24961.2, 36218.4, 45951.6, 6403.2, 21507.6, 26823.6, 82507.2, 21201.6, 13941.6, 16568.399999999998, 200719.19999999998, 200719.19999999998, 200719.19999999998, 610689.6, 300148.8, 40224.0, 155158.8, 104766.0, 153090.0, 66865.2, 3090.0, 16052.4, 60344.399999999994, 6738.0, 157450.8, 157450.8, 110804.4, 110804.4, 7106.4, 16161.599999999999, 37467.6, 50068.799999999996, 92043.59999999999, 92043.59999999999, 56476.799999999996, 21836.399999999998, 13730.4, 183184.8, 183184.8, 183184.8, 112688.4, 227821.19999999998, 127891.2, 57050.4, 32701.199999999997, 9880.8, 16788.0, 11470.8, 99930.0, 19624.8, 8734.8, 18045.6, 53524.799999999996, 329451.6, 110187.59999999999, 110187.59999999999, 81781.2, 81781.2, 137482.8, 106629.59999999999, 30853.199999999997, 100292.4, 49624.799999999996, 25254.0, 24370.8, 38884.799999999996, 20292.0, 2980.7999999999997, 15612.0, 11782.8, 11782.8, 0.0, 0.0, nan, 1334673.5999999999, 32983.2, 32983.2, 30142.8, 1208.3999999999999, 1632.0, 71498.4, 3368.4, 3368.4, 45150.0, 45150.0, 22980.0, 6979.2, 16000.8, 479266.8, 479266.8, 119344.79999999999, 12817.199999999999, 6637.2, 12008.4, 4378.8, 42054.0, 37480.799999999996, 11475.6, 17460.0, 17124.0, 29388.0, 31296.0, 4096.8, 16023.599999999999, 17787.6, 67736.4, 15098.4, 8187.599999999999, 8871.6, 115734.0, 115734.0, 115734.0, 288703.2, 127740.0, 18750.0, 73407.59999999999, 35582.4, 91081.2, 37587.6, 2252.4, 11780.4, 35862.0, 3598.7999999999997, 69882.0, 69882.0, 60164.399999999994, 60164.399999999994, 3981.6, 9661.199999999999, 20967.6, 25554.0, 39240.0, 39240.0, 17857.2, 13460.4, 7922.4, 26581.2, 26581.2, 26581.2, 9302.4, 104089.2, 61044.0, 25090.8, 19080.0, 2941.2, 9356.4, 4575.599999999999, 43045.2, 8743.199999999999, 1072.8, 14158.8, 19070.399999999998, 82576.8, 27915.6, 27915.6, 10880.4, 10880.4, 43780.799999999996, 34272.0, 9508.8, 33836.4, 21558.0, 12460.8, 9097.199999999999, 12278.4, 7065.599999999999, 1383.6, 3829.2, 0.0, 0.0, 0.0, 0.0, nan, 1355542.8, 36901.2, 36901.2, 34485.6, 880.8, 1534.8, 51440.4, 3657.6, 3657.6, 32814.0, 32814.0, 14968.8, 5676.0, 9292.8, 163119.6, 163119.6, 31173.6, 10503.6, 2475.6, 4773.599999999999, 2708.4, 3165.6, 11487.6, 8433.6, 7923.599999999999, 7837.2, 6830.4, 14655.6, 2306.4, 5484.0, 9036.0, 14770.8, 6103.2, 5754.0, 7696.799999999999, 84985.2, 84985.2, 84985.2, 321986.39999999997, 172408.8, 21474.0, 81751.2, 69183.59999999999, 62008.799999999996, 29277.6, 837.6, 4272.0, 24482.399999999998, 3139.2, 87568.8, 87568.8, 50640.0, 50640.0, 3124.7999999999997, 6500.4, 16500.0, 24514.8, 52803.6, 52803.6, 38619.6, 8376.0, 5808.0, 156603.6, 156603.6, 156603.6, 103386.0, 123732.0, 66847.2, 31959.6, 13621.199999999999, 6939.599999999999, 7431.599999999999, 6895.2, 56884.799999999996, 10881.6, 7662.0, 3886.7999999999997, 34454.4, 246874.8, 82272.0, 82272.0, 70900.8, 70900.8, 93702.0, 72357.59999999999, 21344.399999999998, 66456.0, 28066.8, 12793.199999999999, 15273.599999999999, 26606.399999999998, 13226.4, 1597.2, 11782.8, 11782.8, 11782.8, 0.0, 0.0, nan, 695282.4, 6620.4, 6620.4, 5473.2, 319.2, 828.0, 13473.6, 1005.5999999999999, 1005.5999999999999, 3448.7999999999997, 3448.7999999999997, 9019.199999999999, 2684.4, 6334.8, 87192.0, 87192.0, 15880.8, 3740.3999999999996, 1647.6, 2337.6, 1986.0, 885.6, 5349.599999999999, 2967.6, 4447.2, 4059.6, 3476.4, 9945.6, 1316.3999999999999, 3627.6, 5786.4, 8420.4, 3310.7999999999997, 3207.6, 4798.8, 43197.6, 43197.6, 43197.6, 166758.0, 94924.8, 10364.4, 45356.4, 39204.0, 33424.799999999996, 16672.8, 446.4, 2410.7999999999997, 10930.8, 2964.0, 38408.4, 38408.4, 29412.0, 29412.0, 2214.0, 3799.2, 6393.599999999999, 17005.2, 24412.8, 24412.8, 18762.0, 3331.2, 2319.6, 6794.4, 6794.4, 6794.4, 0.0, 78938.4, 41320.799999999996, 19384.8, 11451.6, 3152.4, 4161.599999999999, 3170.4, 37617.6, 2266.7999999999997, 6926.4, 1992.0, 26432.399999999998, 200013.6, 62713.2, 62713.2, 62163.6, 62163.6, 75136.8, 57961.2, 17175.6, 38469.6, 13660.8, 5005.2, 8655.6, 13026.0, 8282.4, 991.1999999999999, 3752.3999999999996, 11782.8, 11782.8, 0.0, 0.0, nan, 537922.7999999999, 5838.0, 5838.0, 4827.599999999999, 282.0, 728.4, 10255.199999999999, 763.1999999999999, 763.1999999999999, 2719.2, 2719.2, 6772.8, 2047.1999999999998, 4725.599999999999, 66432.0, 66432.0, 12007.199999999999, 2886.0, 1220.3999999999999, 1814.3999999999999, 1515.6, 670.8, 4098.0, 2302.7999999999997, 3384.0, 3039.6, 2624.4, 7525.2, 998.4, 2773.2, 4371.599999999999, 6352.8, 2593.2, 2448.0, 3806.3999999999996, 33123.6, 33123.6, 33123.6, 129307.2, 72751.2, 7882.799999999999, 34990.799999999996, 29877.6, 25282.8, 12628.8, 342.0, 1827.6, 8320.8, 2163.6, 31273.199999999997, 31273.199999999997, 22750.8, 22750.8, 1722.0, 2944.7999999999997, 4812.0, 13272.0, 17720.399999999998, 17720.399999999998, 13194.0, 2598.0, 1928.3999999999999, 5322.0, 5322.0, 5322.0, 0.0, 61038.0, 32655.6, 15428.4, 8955.6, 2556.0, 3271.2, 2444.4, 28382.399999999998, 1752.0, 5274.0, 1532.3999999999999, 19824.0, 155835.6, 48853.2, 48853.2, 48116.4, 48116.4, 58866.0, 46068.0, 12798.0, 30300.0, 10539.6, 3882.0, 6657.599999999999, 10053.6, 6387.599999999999, 750.0, 2916.0, 9706.8, 9706.8, 0.0, 0.0, nan, 157359.6, 782.4, 782.4, 645.6, 37.199999999999996, 99.6, 3218.4, 242.39999999999998, 242.39999999999998, 729.6, 729.6, 2246.4, 637.1999999999999, 1609.2, 20760.0, 20760.0, 3873.6, 854.4, 427.2, 523.1999999999999, 470.4, 214.79999999999998, 1251.6, 664.8, 1063.2, 1020.0, 852.0, 2420.4, 318.0, 854.4, 1414.8, 2067.6, 717.6, 759.6, 992.4, 10074.0, 10074.0, 10074.0, 37450.799999999996, 22173.6, 2481.6, 10365.6, 9326.4, 8142.0, 4044.0, 104.39999999999999, 583.1999999999999, 2610.0, 800.4, 7135.2, 7135.2, 6661.2, 6661.2, 492.0, 854.4, 1581.6, 3733.2, 6692.4, 6692.4, 5568.0, 733.1999999999999, 391.2, 1472.3999999999999, 1472.3999999999999, 1472.3999999999999, 0.0, 17900.399999999998, 8665.199999999999, 3956.3999999999996, 2496.0, 596.4, 890.4, 726.0, 9235.199999999999, 514.8, 1652.3999999999999, 459.59999999999997, 6608.4, 44178.0, 13860.0, 13860.0, 14047.199999999999, 14047.199999999999, 16270.8, 11893.199999999999, 4377.599999999999, 8169.599999999999, 3121.2, 1123.2, 1998.0, 2972.4, 1894.8, 241.2, 836.4, 2076.0, 2076.0, 0.0, 0.0, nan, 14022.0, -6637.2, -6637.2, -6619.2, 4.8, -22.8, 973.1999999999999, -2.4, -2.4, 844.8, 844.8, 130.79999999999998, 67.2, 63.599999999999994, 253.2, 253.2, 52.8, 9.6, 13.2, 34.8, 16.8, 104.39999999999999, 63.599999999999994, -9.6, 6.0, 112.8, 12.0, -4.8, -10.799999999999999, -18.0, -25.2, -9.6, -51.6, 0.0, -43.199999999999996, 2722.7999999999997, 2722.7999999999997, 2722.7999999999997, 1684.8, 730.8, 51.6, 246.0, 433.2, 441.59999999999997, 75.6, -67.2, -10.799999999999999, 516.0, -72.0, 512.4, 512.4, 387.59999999999997, 387.59999999999997, -9.6, -76.8, 644.4, -170.4, 3094.7999999999997, 3094.7999999999997, 2899.2, 124.8, 70.8, 11241.6, 11241.6, 11241.6, 8766.0, -446.4, -166.79999999999998, -69.6, -38.4, -92.39999999999999, 2.4, 31.2, -279.59999999999997, 60.0, -52.8, 10.799999999999999, -297.59999999999997, 700.8, 496.79999999999995, 496.79999999999995, -61.199999999999996, -61.199999999999996, 265.2, 435.59999999999997, -170.4, 46.8, 126.0, 16.8, 109.2, -79.2, -3.5999999999999996, -3.5999999999999996, -72.0, 0.0, 0.0, 0.0, 0.0, nan, 646238.4, 36918.0, 36918.0, 35631.6, 556.8, 729.6, 36993.6, 2654.4, 2654.4, 28520.399999999998, 28520.399999999998, 5818.8, 2924.4, 2894.4, 75674.4, 75674.4, 15240.0, 6753.599999999999, 814.8, 2401.2, 705.6, 2175.6, 6074.4, 5475.599999999999, 3470.4, 3664.7999999999997, 3342.0, 4714.8, 1000.8, 1874.3999999999999, 3274.7999999999997, 6360.0, 2844.0, 2546.4, 2941.2, 39064.799999999996, 39064.799999999996, 39064.799999999996, 153543.6, 76753.2, 11058.0, 36148.799999999996, 29546.399999999998, 28142.399999999998, 12529.199999999999, 458.4, 1872.0, 13035.6, 247.2, 48648.0, 48648.0, 20840.399999999998, 20840.399999999998, 920.4, 2778.0, 9462.0, 7680.0, 25296.0, 25296.0, 16958.399999999998, 4920.0, 3417.6, 138567.6, 138567.6, 138567.6, 94620.0, 45240.0, 25693.2, 12644.4, 2208.0, 3879.6, 3267.6, 3693.6, 19546.8, 8554.8, 788.4, 1884.0, 8319.6, 46160.4, 19062.0, 19062.0, 8798.4, 8798.4, 18300.0, 13960.8, 4339.2, 27939.6, 14280.0, 7771.2, 6508.8, 13659.6, 4947.599999999999, 609.6, 8102.4, 0.0, 0.0, 0.0, 0.0]\n"
     ]
    }
   ],
   "source": [
    "def use_map(col):\n",
    "    df = dataframe[col].map(lambda prod: prod*1.20).tolist()\n",
    "    print(df)\n",
    "\n",
    "\n",
    "use_map(\"2019\")"
   ],
   "metadata": {
    "collapsed": false
   }
  },
  {
   "cell_type": "markdown",
   "source": [
    "- Utilizar filter para crear una función que extraiga un sub-dataset"
   ],
   "metadata": {
    "collapsed": false
   }
  },
  {
   "cell_type": "code",
   "execution_count": 15,
   "outputs": [
    {
     "name": "stdout",
     "output_type": "stream",
     "text": [
      "[2015838.0, 60097.0, 60097.0, 56008.0, 1708.0, 2381.0, 92794.0, 5114.0, 5114.0, 56093.0, 56093.0, 31587.0, 10643.0, 20944.0, 476509.0, 476509.0, 122347.0, 16769.0, 6967.0, 13030.0, 5019.0, 20433.0, 37089.0, 17457.0, 18992.0, 19122.0, 25285.0, 34114.0, 4893.0, 16099.0, 20601.0, 59647.0, 15581.0, 10534.0, 12530.0, 152705.0, 152705.0, 152705.0, 409376.0, 237684.0, 28825.0, 126126.0, 82733.0, 104361.0, 47347.0, 1976.0, 5418.0, 43882.0, 5738.0, 67331.0, 67331.0, 87879.0, 87879.0, 5372.0, 11611.0, 31892.0, 39004.0, 79165.0, 79165.0, 47468.0, 20004.0, 11693.0, 151097.0, 151097.0, 151097.0, 94420.0, 162700.0, 100219.0, 47022.0, 24423.0, 8767.0, 11316.0, 8691.0, 62481.0, 12600.0, 6374.0, 3971.0, 39536.0, 277599.0, 91966.0, 91966.0, 66942.0, 66942.0, 118691.0, 93204.0, 25487.0, 65917.0, 29420.0, 14719.0, 14701.0, 27503.0, 15507.0, 2462.0, 9534.0, 8994.0, 8994.0, 995773.0, 27998.0, 27998.0, 25850.0, 962.0, 1186.0, 52744.0, 2675.0, 2675.0, 31052.0, 31052.0, 19017.0, 5930.0, 13087.0, 353364.0, 353364.0, 97448.0, 9114.0, 5016.0, 9351.0, 3104.0, 21113.0, 27710.0, 9818.0, 12695.0, 12887.0, 20552.0, 22987.0, 3101.0, 11975.0, 13548.0, 48880.0, 11165.0, 6352.0, 6548.0, 90825.0, 90825.0, 90825.0, 205778.0, 105203.0, 14084.0, 60718.0, 30401.0, 66364.0, 27508.0, 1577.0, 5743.0, 28154.0, 3382.0, 34211.0, 34211.0, 47599.0, 47599.0, 2891.0, 6896.0, 18849.0, 18963.0, 33228.0, 33228.0, 14660.0, 11682.0, 6886.0, 20702.0, 20702.0, 20702.0, 7661.0, 70741.0, 47206.0, 20414.0, 14102.0, 2450.0, 6670.0, 3570.0, 23535.0, 5887.0, 793.0, 3372.0, 13483.0, 70668.0, 22073.0, 22073.0, 8518.0, 8518.0, 40077.0, 31815.0, 8262.0, 22126.0, 13270.0, 7111.0, 6159.0, 8856.0, 4788.0, 1265.0, 2803.0, 1020065.0, 32099.0, 32099.0, 30158.0, 746.0, 1195.0, 40050.0, 2439.0, 2439.0, 25041.0, 25041.0, 12570.0, 4713.0, 7857.0, 123145.0, 123145.0, 24899.0, 7655.0, 1951.0, 3679.0, 1915.0, 9379.0, 7639.0, 6297.0, 6235.0, 4733.0, 11127.0, 1792.0, 4124.0, 7053.0, 10767.0, 4416.0, 4182.0, 5982.0, 61880.0, 61880.0, 61880.0, 203598.0, 132481.0, 14741.0, 65408.0, 52332.0, 37997.0, 19839.0, 399.0, 15728.0, 2356.0, 33120.0, 33120.0, 40280.0, 40280.0, 2481.0, 4715.0, 13043.0, 20041.0, 45937.0, 45937.0, 32808.0, 8322.0, 4807.0, 130395.0, 130395.0, 130395.0, 86759.0, 91959.0, 53013.0, 26608.0, 10321.0, 6317.0, 4646.0, 5121.0, 38946.0, 6713.0, 5581.0, 599.0, 26053.0, 206931.0, 69893.0, 69893.0, 58424.0, 58424.0, 78614.0, 61389.0, 17225.0, 43791.0, 16150.0, 7608.0, 8542.0, 18647.0, 10719.0, 1197.0, 6731.0, 8994.0, 8994.0, 555675.0, 5308.0, 5308.0, 4376.0, 243.0, 689.0, 10250.0, 775.0, 775.0, 2655.0, 2655.0, 6820.0, 2174.0, 4646.0, 70355.0, 70355.0, 12937.0, 2667.0, 1282.0, 1817.0, 1388.0, 759.0, 4597.0, 2633.0, 3591.0, 3462.0, 2662.0, 8011.0, 1190.0, 2810.0, 4806.0, 6734.0, 2880.0, 2287.0, 3842.0, 35544.0, 35544.0, 35544.0, 118058.0, 75315.0, 7432.0, 36883.0, 31000.0, 26590.0, 13501.0, 294.0, 1481.0, 8876.0, 2438.0, 16153.0, 16153.0, 24809.0, 24809.0, 1925.0, 3049.0, 3647.0, 16188.0, 19820.0, 19820.0, 15017.0, 2890.0, 1913.0, 5030.0, 5030.0, 5030.0, 65589.0, 35366.0, 18133.0, 8257.0, 3170.0, 3154.0, 2652.0, 30223.0, 1739.0, 5506.0, 1102.0, 21876.0, 171300.0, 53628.0, 53628.0, 52532.0, 52532.0, 65140.0, 50326.0, 14814.0, 29612.0, 10651.0, 3462.0, 7189.0, 9967.0, 6754.0, 746.0, 2467.0, 8994.0, 8994.0, 424694.0, 4663.0, 4663.0, 3845.0, 214.0, 604.0, 7764.0, 579.0, 579.0, 2085.0, 2085.0, 5100.0, 1641.0, 3459.0, 52625.0, 52625.0, 9660.0, 2020.0, 939.0, 1390.0, 1026.0, 570.0, 3470.0, 2042.0, 2677.0, 2537.0, 1944.0, 5930.0, 896.0, 2098.0, 3582.0, 4914.0, 2217.0, 1696.0, 3017.0, 26909.0, 26909.0, 26909.0, 88857.0, 56873.0, 5572.0, 28058.0, 23243.0, 19562.0, 10016.0, 219.0, 951.0, 6647.0, 1729.0, 12422.0, 12422.0, 19180.0, 19180.0, 1493.0, 2368.0, 2786.0, 12533.0, 14318.0, 14318.0, 10471.0, 2254.0, 1593.0, 3901.0, 3901.0, 3901.0, 50073.0, 27621.0, 14337.0, 6331.0, 2562.0, 2407.0, 1984.0, 22452.0, 1305.0, 4157.0, 792.0, 16198.0, 133367.0, 41848.0, 41848.0, 40603.0, 40603.0, 50916.0, 39918.0, 10998.0, 23037.0, 8121.0, 2642.0, 5479.0, 7555.0, 5174.0, 559.0, 1822.0, 7361.0, 7361.0, 130981.0, 645.0, 645.0, 531.0, 29.0, 85.0, 2486.0, 196.0, 196.0, 570.0, 570.0, 1720.0, 533.0, 1187.0, 17730.0, 17730.0, 3277.0, 647.0, 343.0, 427.0, 362.0, 189.0, 1127.0, 591.0, 914.0, 925.0, 718.0, 2081.0, 294.0, 712.0, 1224.0, 1820.0, 663.0, 591.0, 825.0, 8635.0, 8635.0, 8635.0, 29201.0, 18442.0, 1860.0, 8825.0, 7757.0, 7028.0, 3485.0, 75.0, 530.0, 2229.0, 709.0, 3731.0, 3731.0, 5629.0, 5629.0, 432.0, 681.0, 861.0, 3655.0, 5502.0, 5502.0, 4546.0, 636.0, 320.0, 1129.0, 1129.0, 1129.0, 15516.0, 7745.0, 3796.0, 1926.0, 608.0, 747.0, 668.0, 7771.0, 434.0, 1349.0, 310.0, 5678.0, 37933.0, 11780.0, 11780.0, 11929.0, 11929.0, 14224.0, 10408.0, 3816.0, 6575.0, 2530.0, 820.0, 1710.0, 2412.0, 1580.0, 187.0, 645.0, 1633.0, 1633.0, 4014.0, 651.0, 611.0, 611.0, 51.0, 60.0, 19.0, 58.0, 46.0, 63.0, 12.0, 1814.0, 1814.0, 1814.0, 304.0, 537.0, 2657.0, 2657.0, 2563.0, 74.0, 20.0, 9017.0, 9017.0, 9017.0, 7058.0, 10.0, 421.0, 421.0, 302.0, 15.0, 460376.0, 32605.0, 32605.0, 31565.0, 505.0, 535.0, 29149.0, 1675.0, 1675.0, 21775.0, 21775.0, 5699.0, 2479.0, 3220.0, 53207.0, 53207.0, 11994.0, 5010.0, 680.0, 1843.0, 537.0, 4736.0, 5021.0, 2731.0, 2710.0, 2059.0, 3187.0, 627.0, 1377.0, 2314.0, 4133.0, 1578.0, 1931.0, 2236.0, 24522.0, 24522.0, 24522.0, 86588.0, 57554.0, 7395.0, 28605.0, 21554.0, 11491.0, 6404.0, 336.0, 6548.0, 17543.0, 17543.0, 15699.0, 15699.0, 586.0, 1738.0, 8859.0, 4516.0, 23460.0, 23460.0, 15228.0, 5358.0, 2874.0, 116348.0, 116348.0, 116348.0, 79701.0, 28285.0, 18203.0, 8694.0, 2244.0, 3222.0, 1544.0, 2499.0, 10082.0, 4964.0, 185.0, 5389.0, 35712.0, 15844.0, 15844.0, 6057.0, 6057.0, 13811.0, 10761.0, 3050.0, 14801.0, 5838.0, 4500.0, 1338.0, 8963.0, 4024.0, 464.0, 4475.0]\n"
     ]
    }
   ],
   "source": [
    "def values_greater_than_zero(col):\n",
    "    df = dataframe[col]\n",
    "    filt = filter(lambda prod: prod > 0, df)\n",
    "    print(list(filt))\n",
    "\n",
    "\n",
    "values_greater_than_zero(\"2020\")"
   ],
   "metadata": {
    "collapsed": false
   }
  },
  {
   "cell_type": "markdown",
   "source": [
    "- Crea una clase que tenga como atributos las columnas"
   ],
   "metadata": {
    "collapsed": false
   },
   "outputs": [
    {
     "ename": "SyntaxError",
     "evalue": "invalid syntax (266955922.py, line 1)",
     "output_type": "error",
     "traceback": [
      "\u001B[1;36m  Cell \u001B[1;32mIn [1], line 1\u001B[1;36m\u001B[0m\n\u001B[1;33m    - Crea una clase que tenga como atributos las columnas\u001B[0m\n\u001B[1;37m           ^\u001B[0m\n\u001B[1;31mSyntaxError\u001B[0m\u001B[1;31m:\u001B[0m invalid syntax\n"
     ]
    }
   ],
   "execution_count": 1
  },
  {
   "cell_type": "markdown",
   "source": [
    "- Define una forma de imprimir los objetos de la clase en la que aparezcan\n",
    "todos los datos de la clase"
   ],
   "metadata": {
    "collapsed": false
   }
  },
  {
   "cell_type": "markdown",
   "source": [
    "- Crea métodos para modificar el valor de cada atributo."
   ],
   "metadata": {
    "collapsed": false
   }
  },
  {
   "cell_type": "markdown",
   "source": [
    "- Redefine los métodos especiales de comparación para poder comparar los objetos de la clase por el valor de la segunda columna y los de la suma y resta para que devuelvan el valor de la suma o resta de cada atributo."
   ],
   "metadata": {
    "collapsed": false
   }
  },
  {
   "cell_type": "code",
   "execution_count": 21,
   "outputs": [],
   "source": [
    "class Data_table:\n",
    "    def __init__(self, sector):\n",
    "        self.sector = sector\n",
    "\n",
    "    def __str__(self):\n",
    "        sector = self.info()\n",
    "        return f\"{self.sector} ha producido un total por año de: {str(sector)}\"\n",
    "\n",
    "    def info(self):\n",
    "        sectores = dataframe[\"Producción\"].tolist()\n",
    "        index = sectores.index(self.sector)\n",
    "        columnas = columns.delete(0)\n",
    "        tuple = []\n",
    "        sector = {}\n",
    "        for i in columnas:\n",
    "            sector[str(i)] = dataframe[str(i)][index]\n",
    "            tuple.append(dataframe[str(i)][index])\n",
    "        return sector, tuple\n",
    "\n",
    "    def __gt__(self, other):\n",
    "        result, _ = self.info()\n",
    "        if result.get(\"2021\") > other:\n",
    "            return -1\n",
    "\n",
    "    def __eq__(self, other):\n",
    "        result, _ = self.info()\n",
    "        if result.get(\"2021\") == other:\n",
    "            return 0\n",
    "\n",
    "    def __lt__(self, other):\n",
    "        result, _ = self.info()\n",
    "        if result.get(\"2021\") < other:\n",
    "            return 1\n",
    "\n",
    "    def __add__(self, other):\n",
    "        result, _ = self.info()\n",
    "        return result.get(\"2021\") + other\n",
    "\n",
    "    def __sub__(self, other):\n",
    "        result, _ = self.info()\n",
    "        return result.get(\"2021\") - other"
   ],
   "metadata": {
    "collapsed": false
   }
  },
  {
   "cell_type": "markdown",
   "source": [
    "- Crea un objeto de la clase para al menos cinco filas y prueba todos tus métodos."
   ],
   "metadata": {
    "collapsed": false
   }
  },
  {
   "cell_type": "code",
   "execution_count": 23,
   "outputs": [
    {
     "name": "stdout",
     "output_type": "stream",
     "text": [
      "None\n",
      "None\n",
      "0\n"
     ]
    },
    {
     "ename": "TypeError",
     "evalue": "unsupported operand type(s) for -: 'str' and 'str'",
     "output_type": "error",
     "traceback": [
      "\u001B[1;31m---------------------------------------------------------------------------\u001B[0m",
      "\u001B[1;31mTypeError\u001B[0m                                 Traceback (most recent call last)",
      "Cell \u001B[1;32mIn [23], line 14\u001B[0m\n\u001B[0;32m     12\u001B[0m \u001B[38;5;28mprint\u001B[39m(ls\u001B[38;5;241m.\u001B[39m\u001B[38;5;21m__lt__\u001B[39m(inf))\n\u001B[0;32m     13\u001B[0m \u001B[38;5;28mprint\u001B[39m(ls\u001B[38;5;241m.\u001B[39m\u001B[38;5;21m__eq__\u001B[39m(inf))\n\u001B[1;32m---> 14\u001B[0m \u001B[38;5;28mprint\u001B[39m(\u001B[43mls\u001B[49m\u001B[38;5;241;43m.\u001B[39;49m\u001B[38;5;21;43m__sub__\u001B[39;49m\u001B[43m(\u001B[49m\u001B[43minf\u001B[49m\u001B[43m)\u001B[49m)\n\u001B[0;32m     15\u001B[0m \u001B[38;5;28mprint\u001B[39m(ls\u001B[38;5;241m.\u001B[39m\u001B[38;5;21m__add__\u001B[39m(inf))\n\u001B[0;32m     16\u001B[0m \u001B[38;5;28mprint\u001B[39m(\u001B[38;5;124m\"\u001B[39m\u001B[38;5;124m-------------\u001B[39m\u001B[38;5;124m\"\u001B[39m)\n",
      "Cell \u001B[1;32mIn [21], line 41\u001B[0m, in \u001B[0;36mData_table.__sub__\u001B[1;34m(self, other)\u001B[0m\n\u001B[0;32m     39\u001B[0m \u001B[38;5;28;01mdef\u001B[39;00m \u001B[38;5;21m__sub__\u001B[39m(\u001B[38;5;28mself\u001B[39m, other):\n\u001B[0;32m     40\u001B[0m     result, _ \u001B[38;5;241m=\u001B[39m \u001B[38;5;28mself\u001B[39m\u001B[38;5;241m.\u001B[39minfo()\n\u001B[1;32m---> 41\u001B[0m     \u001B[38;5;28;01mreturn\u001B[39;00m \u001B[43mresult\u001B[49m\u001B[38;5;241;43m.\u001B[39;49m\u001B[43mget\u001B[49m\u001B[43m(\u001B[49m\u001B[38;5;124;43m\"\u001B[39;49m\u001B[38;5;124;43m2021\u001B[39;49m\u001B[38;5;124;43m\"\u001B[39;49m\u001B[43m)\u001B[49m\u001B[43m \u001B[49m\u001B[38;5;241;43m-\u001B[39;49m\u001B[43m \u001B[49m\u001B[43mother\u001B[49m\n",
      "\u001B[1;31mTypeError\u001B[0m: unsupported operand type(s) for -: 'str' and 'str'"
     ]
    }
   ],
   "source": [
    "pesca = Data_table(\"        03 Pesca y acuicultura\")\n",
    "manufacturera = Data_table(\"        C Industria manufacturera\")\n",
    "papel = Data_table(\"        17 Industria del papel\")\n",
    "pesca = Data_table(\"        A pesca, ganadería, silvicultura y pesca\")\n",
    "quimica = Data_table(\"        20 Industria química\")\n",
    "\n",
    "lista_sectores = [pesca, manufacturera, papel, pesca, quimica]\n",
    "for ls in lista_sectores:\n",
    "    inf, _ = ls.info()\n",
    "    inf = inf.get(\"2021\")\n",
    "    print(ls.__gt__(inf))\n",
    "    print(ls.__lt__(inf))\n",
    "    print(ls.__eq__(inf))\n",
    "    print(ls.__sub__(inf))\n",
    "    print(ls.__add__(inf))\n",
    "    print(\"-------------\")"
   ],
   "metadata": {
    "collapsed": false
   }
  },
  {
   "cell_type": "markdown",
   "source": [
    "- Realiza gráficos anuales (mensuales o diarios) para cada columna, por grupos de dos columnas, tres columnas y todas las columnas juntas. Los gráficos\n",
    "deben ser de distintos tipos."
   ],
   "metadata": {
    "collapsed": false
   }
  },
  {
   "cell_type": "code",
   "execution_count": 32,
   "outputs": [
    {
     "data": {
      "text/plain": "<Figure size 640x480 with 1 Axes>",
      "image/png": "[encoded data removed]"
     },
     "metadata": {},
     "output_type": "display_data"
    },
    {
     "data": {
      "text/plain": "<Figure size 640x480 with 1 Axes>",
      "image/png": "[encoded data removed]"
     },
     "metadata": {},
     "output_type": "display_data"
    },
    {
     "data": {
      "text/plain": "<Figure size 640x480 with 1 Axes>",
      "image/png": "[encoded data removed]"
     },
     "metadata": {},
     "output_type": "display_data"
    }
   ],
   "source": [
    "def converter(data):\n",
    "    numbers = []\n",
    "    for x in data:\n",
    "        numbers.append(int(x))\n",
    "    return numbers\n",
    "\n",
    "\n",
    "fig, ax = pp.subplots()\n",
    "_, ax2 = pp.subplots()\n",
    "_, ax3 = pp.subplots()\n",
    "\n",
    "years = columns.delete(0)\n",
    "pesca = Data_table(\"        03 Pesca y acuicultura\")\n",
    "_, prod = pesca.info()\n",
    "lista = converter(prod)\n",
    "ax.plot(years, prod, color='red')\n",
    "pp.savefig('grafico.png')\n",
    "ax2.scatter(years, prod)\n",
    "ax3.bar(years, prod)\n",
    "pp.show()"
   ],
   "metadata": {
    "collapsed": false
   }
  },
  {
   "cell_type": "markdown",
   "source": [
    "- Crea una base de datos SQLite desde python"
   ],
   "metadata": {
    "collapsed": false
   }
  },
  {
   "cell_type": "code",
   "execution_count": 30,
   "outputs": [],
   "source": [
    "con = sqlite3.connect(\"produccion.db\")"
   ],
   "metadata": {
    "collapsed": false
   }
  },
  {
   "cell_type": "markdown",
   "source": [
    "- Guarda el dataset como una tabla en la base de datos"
   ],
   "metadata": {
    "collapsed": false
   }
  },
  {
   "cell_type": "code",
   "execution_count": 31,
   "outputs": [],
   "source": [
    "table = dataframe.to_sql(name=\"Produccion\", con=con)"
   ],
   "metadata": {
    "collapsed": false
   }
  },
  {
   "cell_type": "markdown",
   "source": [
    "- Realiza al menos tres consultas distintas"
   ],
   "metadata": {
    "collapsed": false
   }
  },
  {
   "cell_type": "code",
   "execution_count": null,
   "outputs": [],
   "source": [],
   "metadata": {
    "collapsed": false
   }
  },
  {
   "cell_type": "markdown",
   "source": [
    "- Guarda el nuevo dataset como una nueva tabla en la base de datos"
   ],
   "metadata": {
    "collapsed": false
   }
  },
  {
   "cell_type": "code",
   "execution_count": null,
   "outputs": [],
   "source": [],
   "metadata": {
    "collapsed": false
   }
  },
  {
   "cell_type": "markdown",
   "source": [
    "- Guarda el nuevo dataset como una nueva tabla en la base de datos."
   ],
   "metadata": {
    "collapsed": false
   }
  },
  {
   "cell_type": "code",
   "execution_count": null,
   "outputs": [],
   "source": [],
   "metadata": {
    "collapsed": false
   }
  }
 ],
 "metadata": {
  "kernelspec": {
   "display_name": "Python 3",
   "language": "python",
   "name": "python3"
  },
  "language_info": {
   "codemirror_mode": {
    "name": "ipython",
    "version": 2
   },
   "file_extension": ".py",
   "mimetype": "text/x-python",
   "name": "python",
   "nbconvert_exporter": "python",
   "pygments_lexer": "ipython2",
   "version": "2.7.6"
  }
 },
 "nbformat": 4,
 "nbformat_minor": 0
}
