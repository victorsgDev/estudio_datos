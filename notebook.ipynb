{
 "cells": [
  {
   "cell_type": "markdown",
   "source": [
    "# HITO INDIVIDUAL 1 : SISTEMAS DE GESTIÓN EMPRESARIAL\n",
    "## Víctor Sánchez Grande"
   ],
   "metadata": {
    "collapsed": false
   }
  },
  {
   "cell_type": "markdown",
   "source": [
    "- Utilizando python descarga un archivo tipo excel con datos estadísticos del INE. Puedes elegir el tema que quieras, pero tiene que tener al menos 30\n",
    "filas y 100 datos (las columnas deben ser años, meses o días)"
   ],
   "metadata": {
    "collapsed": false
   }
  },
  {
   "cell_type": "code",
   "execution_count": 5,
   "outputs": [],
   "source": [
    "# Enlace : https://www.ine.es/jaxiT3/files/t/es/xls/32449.xls?nocab=1"
   ],
   "metadata": {
    "collapsed": false
   }
  },
  {
   "cell_type": "markdown",
   "source": [
    "- Carga los datos en una variable y crea un dataset con ellos. Necesitarás el nombre de la hoja y la fila y columna en que están los nombres, también\n",
    "deberás guardar los datos de las primeras celdas para los títulos de los gráficos (hasta que empiezan las columnas con los años – meses - días) y\n",
    "luego eliminar esas filas para evitar errores."
   ],
   "metadata": {
    "collapsed": false
   }
  },
  {
   "cell_type": "code",
   "execution_count": 18,
   "outputs": [],
   "source": [
    "import pandas as pd\n",
    "\n",
    "# Enlace : https://www.ine.es/jaxiT3/files/t/es/xls/32449.xls?nocab=1\n",
    "excel_file = pd.ExcelFile('resources/file.xlsx')\n",
    "dataframe = pd.read_excel(excel_file, sheet_name=\"tabla-32449\")\n",
    "columnas = dataframe.columns"
   ],
   "metadata": {
    "collapsed": false
   }
  },
  {
   "cell_type": "markdown",
   "source": [
    "- Si hay celdas sin valor (sd, NaN,…), conviértelos a 0. Comprueba si hay datos que no deberían estar ahí (valores menores que cero sin sentido, texto en\n",
    "celdas numéricas, o números en celdas de texto). Tendrás que hacer una o varias funciones que lo comprueben."
   ],
   "metadata": {
    "collapsed": false
   }
  },
  {
   "cell_type": "code",
   "execution_count": 17,
   "outputs": [
    {
     "name": "stdout",
     "output_type": "stream",
     "text": [
      "                                            Producción     2021       2020  \\\n",
      "0                                           Total CNAE  2134507  2015838.0   \n",
      "1            A Agricultura, ganadería, silvicultura...    60816    60097.0   \n",
      "2            A Agricultura, ganadería, silvicultura...    60816    60097.0   \n",
      "3            01 Agricultura, ganadería, caza y serv...        0    56008.0   \n",
      "4               02 Silvicultura y explotación forestal        0     1708.0   \n",
      "..                                                 ...      ...        ...   \n",
      "786                      96 Otros servicios personales        0     4475.0   \n",
      "787          T Actividades de los hogares como empl...        0        0.0   \n",
      "788          97-98 Actividades de los hogares como ...        0        0.0   \n",
      "789          U Actividades de organizaciones y orga...        0        0.0   \n",
      "790          99 Actividades de organizaciones y org...        0        0.0   \n",
      "\n",
      "          2019       2018       2017       2016       2015       2014  \\\n",
      "0    2241847.0  2156398.0  2061054.0  1953684.0  1922923.0  1870440.0   \n",
      "1      58237.0    60795.0    57537.0    56141.0    54721.0    50213.0   \n",
      "2      58237.0    60795.0    57537.0    56141.0    54721.0    50213.0   \n",
      "3      53857.0    56143.0    52866.0    51439.0    50116.0    45622.0   \n",
      "4       1741.0     1859.0     1834.0     1923.0     1856.0     1752.0   \n",
      "..         ...        ...        ...        ...        ...        ...   \n",
      "786     6752.0     6486.0     6367.0     5913.0     5877.0     5441.0   \n",
      "787        0.0        0.0        0.0        0.0        0.0        0.0   \n",
      "788        0.0        0.0        0.0        0.0        0.0        0.0   \n",
      "789        0.0        0.0        0.0        0.0        0.0        0.0   \n",
      "790        0.0        0.0        0.0        0.0        0.0        0.0   \n",
      "\n",
      "          2013  ...       2004       2003       2002       2001       2000  \\\n",
      "0    1840171.0  ...  1653742.0  1530031.0  1428025.0  1315287.0  1210545.0   \n",
      "1      52048.0  ...    45599.0    45585.0    42855.0    41862.0    39550.0   \n",
      "2      52048.0  ...    45599.0    45585.0    42855.0    41862.0    39550.0   \n",
      "3      47613.0  ...    40902.0    41158.0    38383.0    37580.0    35332.0   \n",
      "4       1740.0  ...     1797.0     1770.0     1734.0     1570.0     1586.0   \n",
      "..         ...  ...        ...        ...        ...        ...        ...   \n",
      "786     5545.0  ...     3773.0     3856.0     3787.0     3813.0     3880.0   \n",
      "787        0.0  ...        0.0        0.0        0.0        0.0        0.0   \n",
      "788        0.0  ...        0.0        0.0        0.0        0.0        0.0   \n",
      "789        0.0  ...        0.0        0.0        0.0        0.0        0.0   \n",
      "790        0.0  ...        0.0        0.0        0.0        0.0        0.0   \n",
      "\n",
      "          1999       1998      1997      1996      1995  \n",
      "0    1085506.0  1000562.0  931603.0  870592.0  815321.0  \n",
      "1      37457.0    37972.0   37150.0   36515.0   31923.0  \n",
      "2      37457.0    37972.0   37150.0   36515.0   31923.0  \n",
      "3      33419.0    34136.0   33588.0   33101.0   28726.0  \n",
      "4       1312.0     1226.0    1043.0     923.0     848.0  \n",
      "..         ...        ...       ...       ...       ...  \n",
      "786     3882.0     3873.0    3826.0    3835.0    3796.0  \n",
      "787        0.0        0.0       0.0       0.0       0.0  \n",
      "788        0.0        0.0       0.0       0.0       0.0  \n",
      "789        0.0        0.0       0.0       0.0       0.0  \n",
      "790        0.0        0.0       0.0       0.0       0.0  \n",
      "\n",
      "[791 rows x 28 columns]\n"
     ]
    }
   ],
   "source": [
    "dataframe = dataframe.fillna(0)\n",
    "dataframe = dataframe.replace({'..': 0})\n",
    "\n",
    "\n",
    "def comprobar_valor_celdas():\n",
    "    columns = columnas.delete(0)\n",
    "    for c in columns:\n",
    "        c = str(c)\n",
    "        for x in dataframe[c]:\n",
    "            if x < 0:\n",
    "                dataframe.replace({x: 0})\n",
    "    print(dataframe)\n",
    "\n",
    "\n",
    "comprobar_valor_celdas()\n"
   ],
   "metadata": {
    "collapsed": false
   }
  }
 ],
 "metadata": {
  "kernelspec": {
   "display_name": "Python 3",
   "language": "python",
   "name": "python3"
  },
  "language_info": {
   "codemirror_mode": {
    "name": "ipython",
    "version": 2
   },
   "file_extension": ".py",
   "mimetype": "text/x-python",
   "name": "python",
   "nbconvert_exporter": "python",
   "pygments_lexer": "ipython2",
   "version": "2.7.6"
  }
 },
 "nbformat": 4,
 "nbformat_minor": 0
}
